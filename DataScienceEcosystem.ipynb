{
 "cells": [
  {
   "cell_type": "markdown",
   "id": "f6c9d4ff-d92d-4874-9937-60308931e25b",
   "metadata": {},
   "source": [
    "# Data Science Tools and Ecosystem"
   ]
  },
  {
   "cell_type": "markdown",
   "id": "f789f729-ec1e-416b-a70a-60ac990b9ea7",
   "metadata": {
    "tags": []
   },
   "source": [
    "#### In this notebook, Data Science Tools and Ecosystem are summarized."
   ]
  },
  {
   "cell_type": "markdown",
   "id": "439d93d6-570b-4f98-887b-094e11a9f5b9",
   "metadata": {
    "tags": []
   },
   "source": [
    "**Objectives:**\n",
    "- List popular languages for Data Scientist\n",
    "- Common Libraries\n",
    "- Data Science Tools\n",
    "- Arithmatic Expressions"
   ]
  },
  {
   "cell_type": "markdown",
   "id": "181ff2c5-a787-4cdc-b3da-b7ed4fb9f4d4",
   "metadata": {},
   "source": [
    "Some of the popular languages that Data Scientists use are:\n",
    "1. Python\n",
    "2. R\n",
    "3. Julia\n",
    "4. Java"
   ]
  },
  {
   "cell_type": "markdown",
   "id": "01ec96b1-462e-4e32-af33-28bd9e1acb68",
   "metadata": {},
   "source": [
    "Some of the commonly used libraries used by Data Scientists include:\n",
    "1. scikit_learn\n",
    "2. Pandas\n",
    "3. PyTorch\n",
    "4. Numpy"
   ]
  },
  {
   "cell_type": "markdown",
   "id": "9e75ddb2-2b5e-486c-9ef1-2ad671a0cf57",
   "metadata": {},
   "source": [
    "|Data Science Tools|\n",
    "|------------------|\n",
    "|RStudio|\n",
    "|Apache Spark|\n",
    "|Apache Hadoop|"
   ]
  },
  {
   "cell_type": "markdown",
   "id": "f33528a1-87c1-47bc-bba3-60d1d32c6849",
   "metadata": {},
   "source": [
    "### Below are a few examples of evaluating arithmetic expressions in Python\n",
    "- / for divide\n",
    "- ** for exponential"
   ]
  },
  {
   "cell_type": "markdown",
   "id": "9fcab290-88a8-43f3-8b18-6260ab689386",
   "metadata": {
    "tags": []
   },
   "source": [
    "This a simple arithmetic expression to mutiply then add integers"
   ]
  },
  {
   "cell_type": "code",
   "execution_count": 4,
   "id": "7481ba25-c737-4a87-a478-ac8bd9df5855",
   "metadata": {
    "tags": []
   },
   "outputs": [
    {
     "data": {
      "text/plain": [
       "17"
      ]
     },
     "execution_count": 4,
     "metadata": {},
     "output_type": "execute_result"
    }
   ],
   "source": [
    "(3*4) + 5"
   ]
  },
  {
   "cell_type": "markdown",
   "id": "783d08a6-7af0-4cfa-8103-43c481cd0991",
   "metadata": {},
   "source": [
    "This will convert 200 minutes to hours by diving by 60."
   ]
  },
  {
   "cell_type": "code",
   "execution_count": 5,
   "id": "55110cfa-14b6-410d-9081-07bdc26a3cbc",
   "metadata": {
    "tags": []
   },
   "outputs": [
    {
     "data": {
      "text/plain": [
       "3.3333333333333335"
      ]
     },
     "execution_count": 5,
     "metadata": {},
     "output_type": "execute_result"
    }
   ],
   "source": [
    "200/60"
   ]
  },
  {
   "cell_type": "markdown",
   "id": "7ecb39ef-1e39-4451-b58f-627db90b4ddd",
   "metadata": {},
   "source": [
    "## Author\n",
    "Aman Virani"
   ]
  },
  {
   "cell_type": "code",
   "execution_count": null,
   "id": "eb3f69e6-3a61-4fd6-916f-254e95604a17",
   "metadata": {},
   "outputs": [],
   "source": []
  }
 ],
 "metadata": {
  "kernelspec": {
   "display_name": "Python",
   "language": "python",
   "name": "conda-env-python-py"
  },
  "language_info": {
   "codemirror_mode": {
    "name": "ipython",
    "version": 3
   },
   "file_extension": ".py",
   "mimetype": "text/x-python",
   "name": "python",
   "nbconvert_exporter": "python",
   "pygments_lexer": "ipython3",
   "version": "3.7.12"
  }
 },
 "nbformat": 4,
 "nbformat_minor": 5
}
